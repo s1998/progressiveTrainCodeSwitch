{
 "cells": [
  {
   "cell_type": "code",
   "execution_count": 1,
   "id": "middle-hudson",
   "metadata": {},
   "outputs": [],
   "source": [
    "# Get the Keras and Tensorflow imports\n",
    "import tensorflow as tf\n",
    "import keras\n",
    "from keras.models import Sequential\n",
    "from keras.layers import Dense, Activation, Dropout\n",
    "from keras.utils import to_categorical\n",
    "from keras import backend as K\n",
    "\n",
    "!export CUDA_VISIBLE_DEVICES=4\n",
    "\n",
    "# define the uppoer limit for gpu usage\n",
    "config = tf.compat.v1.ConfigProto()\n",
    "config.gpu_options.per_process_gpu_memory_fraction = 0.2\n",
    "tf.compat.v1.keras.backend.set_session(tf.compat.v1.Session(config=config))"
   ]
  },
  {
   "cell_type": "code",
   "execution_count": null,
   "id": "cooked-lawyer",
   "metadata": {
    "code_folding": [
     87,
     125,
     163,
     180,
     195,
     266,
     307,
     329,
     346
    ]
   },
   "outputs": [],
   "source": [
    "class genericHelperClass:\n",
    "    def __init__(self, dataset=\"mnist\",\n",
    "                       ds_frac=None,\n",
    "                       ds_test_frac=0.1,\n",
    "                       model_type=\"mlp\",\n",
    "                       hidden_size=2000,\n",
    "                       noise_frac=0.0,\n",
    "                       random_state=42):\n",
    "        \n",
    "        assert(dataset in [\"mnist\"])\n",
    "        assert(noise_frac > 0)\n",
    "        print(\"Loading dataset .... \")\n",
    "        mnist = fetch_openml('mnist_784')\n",
    "        x = (mnist.data - 128) / 128\n",
    "        y = [int(k) for k in mnist.target]\n",
    "        self.X, self.Y = x, y            \n",
    "        self.Y = to_categorical(self.Y)\n",
    "        print(\"Kept {} out of {} points.\".format(len(self.Y), len(y)))\n",
    "        self.X, self.X_val, self.Y, self.Y_val = train_test_split(self.X, self.Y, test_size=ds_test_frac, \n",
    "                                                 random_state=random_state)\n",
    "        print(\"Train val split {}/{}.\".format(len(self.Y), len(self.Y_val)))\n",
    "        \n",
    "        print(\"Creating model ....\")\n",
    "        self._create_model(hidden_size)\n",
    "    \n",
    "    def _create_model(self, hidden_size):\n",
    "        model = Sequential()\n",
    "        n_hidden = hidden_size\n",
    "        #model.add(Dropout(0.1, input_shape = (28*28, )))\n",
    "        model.add(Dense(n_hidden, input_dim = 28*28, use_bias=False,)) \n",
    "                        #kernel_regularizer=keras.regularizers.l1_l2(l1=1e-5, l2=1e-4),))\n",
    "        model.add(Activation('relu'))\n",
    "        model.add(Dense(10, use_bias=False))\n",
    "        model.add(Activation('softmax'))\n",
    "\n",
    "        # compile it - categorical crossentropy is for multiple choice classification\n",
    "        opt = keras.optimizers.SGD(learning_rate=0.1)\n",
    "        model.compile(optimizer=opt, loss='categorical_crossentropy', metrics=['accuracy'])\n",
    "        self.model = model\n",
    "\n",
    "    def evalmodel(self, i=-1):\n",
    "        loss_t, acc_t = self.model.evaluate(self.X, self.Y, batch_size=1000, verbose=0)\n",
    "        loss_v, acc_v = self.model.evaluate(self.X_val, self.Y_val, batch_size=1000, verbose=0)\n",
    "        print(f'Epoch: {i + 1:4} | Loss T/V: {loss_t:.4f}/{loss_v:.4f}/ | Acc T/V: {acc_t:.4f}/{acc_v:.4f}/')\n",
    "        return acc_t, acc_v\n",
    "\n",
    "    def train_model(self, epochs=3):\n",
    "        for i in range(epochs):\n",
    "            self.model.fit(self.X, self.Y, epochs = 1, batch_size = 128,\n",
    "                           validation_data = (self.X_val, self.Y_val), verbose=0)\n",
    "            acc_t, acc_v = self.evalmodel(i) \n",
    "\n"
   ]
  }
 ],
 "metadata": {
  "kernelspec": {
   "display_name": "Python 3",
   "language": "python",
   "name": "python3"
  },
  "language_info": {
   "codemirror_mode": {
    "name": "ipython",
    "version": 3
   },
   "file_extension": ".py",
   "mimetype": "text/x-python",
   "name": "python",
   "nbconvert_exporter": "python",
   "pygments_lexer": "ipython3",
   "version": "3.6.10"
  }
 },
 "nbformat": 4,
 "nbformat_minor": 5
}
